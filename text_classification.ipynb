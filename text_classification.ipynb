{
 "cells": [
  {
   "cell_type": "code",
   "execution_count": 1,
   "id": "initial_id",
   "metadata": {
    "collapsed": true,
    "ExecuteTime": {
     "end_time": "2025-02-02T19:42:59.887897Z",
     "start_time": "2025-02-02T19:42:59.839296Z"
    }
   },
   "outputs": [],
   "source": [
    "import pandas as pd\n",
    "\n",
    "books = pd.read_csv('books_cleaned.csv')"
   ]
  },
  {
   "cell_type": "code",
   "outputs": [
    {
     "data": {
      "text/plain": "categories\nFiction                      2111\nJuvenile Fiction              390\nBiography & Autobiography     311\nHistory                       207\nLiterary Criticism            124\n                             ... \nConspiracies                    1\nBrothers and sisters            1\nRock musicians                  1\nCommunity life                  1\nIndic fiction (English)         1\nName: count, Length: 479, dtype: int64"
     },
     "execution_count": 2,
     "metadata": {},
     "output_type": "execute_result"
    }
   ],
   "source": [
    "books[\"categories\"].value_counts()"
   ],
   "metadata": {
    "collapsed": false,
    "ExecuteTime": {
     "end_time": "2025-02-02T19:42:59.896534Z",
     "start_time": "2025-02-02T19:42:59.889183Z"
    }
   },
   "id": "74106fbbf523e2c",
   "execution_count": 2
  },
  {
   "cell_type": "code",
   "outputs": [
    {
     "data": {
      "text/plain": "                   categories  count\n0                     Fiction   2111\n1            Juvenile Fiction    390\n2   Biography & Autobiography    311\n3                     History    207\n4          Literary Criticism    124\n5                  Philosophy    117\n6                    Religion    117\n7     Comics & Graphic Novels    116\n8                       Drama     86\n9         Juvenile Nonfiction     57\n10                    Science     56\n11                     Poetry     51",
      "text/html": "<div>\n<style scoped>\n    .dataframe tbody tr th:only-of-type {\n        vertical-align: middle;\n    }\n\n    .dataframe tbody tr th {\n        vertical-align: top;\n    }\n\n    .dataframe thead th {\n        text-align: right;\n    }\n</style>\n<table border=\"1\" class=\"dataframe\">\n  <thead>\n    <tr style=\"text-align: right;\">\n      <th></th>\n      <th>categories</th>\n      <th>count</th>\n    </tr>\n  </thead>\n  <tbody>\n    <tr>\n      <th>0</th>\n      <td>Fiction</td>\n      <td>2111</td>\n    </tr>\n    <tr>\n      <th>1</th>\n      <td>Juvenile Fiction</td>\n      <td>390</td>\n    </tr>\n    <tr>\n      <th>2</th>\n      <td>Biography &amp; Autobiography</td>\n      <td>311</td>\n    </tr>\n    <tr>\n      <th>3</th>\n      <td>History</td>\n      <td>207</td>\n    </tr>\n    <tr>\n      <th>4</th>\n      <td>Literary Criticism</td>\n      <td>124</td>\n    </tr>\n    <tr>\n      <th>5</th>\n      <td>Philosophy</td>\n      <td>117</td>\n    </tr>\n    <tr>\n      <th>6</th>\n      <td>Religion</td>\n      <td>117</td>\n    </tr>\n    <tr>\n      <th>7</th>\n      <td>Comics &amp; Graphic Novels</td>\n      <td>116</td>\n    </tr>\n    <tr>\n      <th>8</th>\n      <td>Drama</td>\n      <td>86</td>\n    </tr>\n    <tr>\n      <th>9</th>\n      <td>Juvenile Nonfiction</td>\n      <td>57</td>\n    </tr>\n    <tr>\n      <th>10</th>\n      <td>Science</td>\n      <td>56</td>\n    </tr>\n    <tr>\n      <th>11</th>\n      <td>Poetry</td>\n      <td>51</td>\n    </tr>\n  </tbody>\n</table>\n</div>"
     },
     "execution_count": 3,
     "metadata": {},
     "output_type": "execute_result"
    }
   ],
   "source": [
    "books[\"categories\"].value_counts().reset_index().query(\"count > 50\")"
   ],
   "metadata": {
    "collapsed": false,
    "ExecuteTime": {
     "end_time": "2025-02-02T19:42:59.912744Z",
     "start_time": "2025-02-02T19:42:59.897626Z"
    }
   },
   "id": "dce06011b94bcf83",
   "execution_count": 3
  },
  {
   "cell_type": "code",
   "outputs": [],
   "source": [
    "category_mapping = {'Fiction' : 'Fiction',\n",
    " 'Juvenile Fiction': \"Children's Fiction\",\n",
    " 'Biography & Autobiography': 'Nonfiction',\n",
    " 'History': 'Nonfiction',\n",
    " 'Literary Criticism': 'Nonfiction',\n",
    " 'Philosophy': 'Nonfiction',\n",
    " 'Religion': 'Nonfiction',\n",
    " 'Comics & Graphic Novels': 'Fiction',\n",
    " 'Drama': 'Fiction',\n",
    " 'Juvenile Nonfiction': \"Children's Nonfiction\",\n",
    " 'Science': 'Nonfiction',\n",
    " 'Poetry': 'Fiction'}\n"
   ],
   "metadata": {
    "collapsed": false,
    "ExecuteTime": {
     "end_time": "2025-02-02T19:42:59.921476Z",
     "start_time": "2025-02-02T19:42:59.913539Z"
    }
   },
   "id": "ef05d514048d633f",
   "execution_count": 4
  },
  {
   "cell_type": "code",
   "outputs": [],
   "source": [
    "books[\"simple_categories\"] = books[\"categories\"].map(category_mapping)"
   ],
   "metadata": {
    "collapsed": false,
    "ExecuteTime": {
     "end_time": "2025-02-02T19:42:59.932888Z",
     "start_time": "2025-02-02T19:42:59.922347Z"
    }
   },
   "id": "54ec00e64a64acdc",
   "execution_count": 5
  },
  {
   "cell_type": "code",
   "outputs": [
    {
     "data": {
      "text/plain": "             isbn13      isbn10                      title  \\\n0     9780002005883  0002005883                     Gilead   \n2     9780006178736  0006178731             Rage of angels   \n8     9780006482079  0006482074        Warhost of Vastmark   \n30    9780006646006  000664600X         Ocean Star Express   \n46    9780007121014  0007121016         Taken at the Flood   \n...             ...         ...                        ...   \n5178  9781933648279  1933648279  Night Has a Thousand Eyes   \n5188  9784770028969  4770028962         Coin Locker Babies   \n5189  9788122200850  8122200850           Cry, the Peacock   \n5195  9788185300535  8185300534                  I Am that   \n5196  9789027712059  9027712050   The Berlin Phenomenology   \n\n                                           authors        categories  \\\n0                               Marilynne Robinson           Fiction   \n2                                   Sidney Sheldon           Fiction   \n8                                      Janny Wurts           Fiction   \n30                        Mark Haddon;Peter Sutton  Juvenile Fiction   \n46                                 Agatha Christie           Fiction   \n...                                            ...               ...   \n5178                              Cornell Woolrich           Fiction   \n5188                                           村上龍           Fiction   \n5189                                   Anita Desai           Fiction   \n5195  Sri Nisargadatta Maharaj;Sudhakar S. Dikshit        Philosophy   \n5196                 Georg Wilhelm Friedrich Hegel           History   \n\n                                              thumbnail  \\\n0     http://books.google.com/books/content?id=KQZCP...   \n2     http://books.google.com/books/content?id=FKo2T...   \n8     http://books.google.com/books/content?id=uOL0f...   \n30    http://books.google.com/books/content?id=I2QZA...   \n46    http://books.google.com/books/content?id=3gWlx...   \n...                                                 ...   \n5178  http://books.google.com/books/content?id=3Gk6s...   \n5188  http://books.google.com/books/content?id=87DJw...   \n5189  http://books.google.com/books/content?id=_QKwV...   \n5195  http://books.google.com/books/content?id=Fv_JP...   \n5196  http://books.google.com/books/content?id=Vy7Sk...   \n\n                                            description  published_year  \\\n0     A NOVEL THAT READERS and critics have been eag...          2004.0   \n2     A memorable, mesmerizing heroine Jennifer -- b...          1993.0   \n8     Tricked once more by his wily half-brother, Ly...          1995.0   \n30    Joe and his parents are enjoying a summer holi...          2002.0   \n46    A Few Weeks After Marrying An Attractive Young...          2002.0   \n...                                                 ...             ...   \n5178  \"Cornell Woolrich's novels define the essence ...          2007.0   \n5188  Rescued from the lockers in which they were le...          2002.0   \n5189  This book is the story of a young girl obsesse...          1980.0   \n5195  This collection of the timeless teachings of o...          1999.0   \n5196  Since the three volume edition ofHegel's Philo...          1981.0   \n\n      average_rating  num_pages  ratings_count  \\\n0               3.85      247.0          361.0   \n2               3.93      512.0        29532.0   \n8               4.03      522.0         2966.0   \n30              3.50       32.0            1.0   \n46              3.71      352.0         8852.0   \n...              ...        ...            ...   \n5178            3.77      344.0          680.0   \n5188            3.75      393.0         5560.0   \n5189            3.22      218.0          134.0   \n5195            4.51      531.0          104.0   \n5196            0.00      210.0            0.0   \n\n                                  titll_and_subtitle  \\\n0                                             Gilead   \n2                                     Rage of angels   \n8                                Warhost of Vastmark   \n30                                Ocean Star Express   \n46                                Taken at the Flood   \n...                                              ...   \n5178                       Night Has a Thousand Eyes   \n5188                              Coin Locker Babies   \n5189                                Cry, the Peacock   \n5195  I Am that: Talks with Sri Nisargadatta Maharaj   \n5196                        The Berlin Phenomenology   \n\n                                  title_and_subtitle  \\\n0                                             Gilead   \n2                                     Rage of angels   \n8                                Warhost of Vastmark   \n30                                Ocean Star Express   \n46                                Taken at the Flood   \n...                                              ...   \n5178                       Night Has a Thousand Eyes   \n5188                              Coin Locker Babies   \n5189                                Cry, the Peacock   \n5195  I Am that: Talks with Sri Nisargadatta Maharaj   \n5196                        The Berlin Phenomenology   \n\n                                     tagged_description   simple_categories  \n0     9780002005883 A NOVEL THAT READERS and critics...             Fiction  \n2     9780006178736 A memorable, mesmerizing heroine...             Fiction  \n8     9780006482079 Tricked once more by his wily ha...             Fiction  \n30    9780006646006 Joe and his parents are enjoying...  Children's Fiction  \n46    9780007121014 A Few Weeks After Marrying An At...             Fiction  \n...                                                 ...                 ...  \n5178  9781933648279 \"Cornell Woolrich's novels defin...             Fiction  \n5188  9784770028969 Rescued from the lockers in whic...             Fiction  \n5189  9788122200850 This book is the story of a youn...             Fiction  \n5195  9788185300535 This collection of the timeless ...          Nonfiction  \n5196  9789027712059 Since the three volume edition o...          Nonfiction  \n\n[3743 rows x 15 columns]",
      "text/html": "<div>\n<style scoped>\n    .dataframe tbody tr th:only-of-type {\n        vertical-align: middle;\n    }\n\n    .dataframe tbody tr th {\n        vertical-align: top;\n    }\n\n    .dataframe thead th {\n        text-align: right;\n    }\n</style>\n<table border=\"1\" class=\"dataframe\">\n  <thead>\n    <tr style=\"text-align: right;\">\n      <th></th>\n      <th>isbn13</th>\n      <th>isbn10</th>\n      <th>title</th>\n      <th>authors</th>\n      <th>categories</th>\n      <th>thumbnail</th>\n      <th>description</th>\n      <th>published_year</th>\n      <th>average_rating</th>\n      <th>num_pages</th>\n      <th>ratings_count</th>\n      <th>titll_and_subtitle</th>\n      <th>title_and_subtitle</th>\n      <th>tagged_description</th>\n      <th>simple_categories</th>\n    </tr>\n  </thead>\n  <tbody>\n    <tr>\n      <th>0</th>\n      <td>9780002005883</td>\n      <td>0002005883</td>\n      <td>Gilead</td>\n      <td>Marilynne Robinson</td>\n      <td>Fiction</td>\n      <td>http://books.google.com/books/content?id=KQZCP...</td>\n      <td>A NOVEL THAT READERS and critics have been eag...</td>\n      <td>2004.0</td>\n      <td>3.85</td>\n      <td>247.0</td>\n      <td>361.0</td>\n      <td>Gilead</td>\n      <td>Gilead</td>\n      <td>9780002005883 A NOVEL THAT READERS and critics...</td>\n      <td>Fiction</td>\n    </tr>\n    <tr>\n      <th>2</th>\n      <td>9780006178736</td>\n      <td>0006178731</td>\n      <td>Rage of angels</td>\n      <td>Sidney Sheldon</td>\n      <td>Fiction</td>\n      <td>http://books.google.com/books/content?id=FKo2T...</td>\n      <td>A memorable, mesmerizing heroine Jennifer -- b...</td>\n      <td>1993.0</td>\n      <td>3.93</td>\n      <td>512.0</td>\n      <td>29532.0</td>\n      <td>Rage of angels</td>\n      <td>Rage of angels</td>\n      <td>9780006178736 A memorable, mesmerizing heroine...</td>\n      <td>Fiction</td>\n    </tr>\n    <tr>\n      <th>8</th>\n      <td>9780006482079</td>\n      <td>0006482074</td>\n      <td>Warhost of Vastmark</td>\n      <td>Janny Wurts</td>\n      <td>Fiction</td>\n      <td>http://books.google.com/books/content?id=uOL0f...</td>\n      <td>Tricked once more by his wily half-brother, Ly...</td>\n      <td>1995.0</td>\n      <td>4.03</td>\n      <td>522.0</td>\n      <td>2966.0</td>\n      <td>Warhost of Vastmark</td>\n      <td>Warhost of Vastmark</td>\n      <td>9780006482079 Tricked once more by his wily ha...</td>\n      <td>Fiction</td>\n    </tr>\n    <tr>\n      <th>30</th>\n      <td>9780006646006</td>\n      <td>000664600X</td>\n      <td>Ocean Star Express</td>\n      <td>Mark Haddon;Peter Sutton</td>\n      <td>Juvenile Fiction</td>\n      <td>http://books.google.com/books/content?id=I2QZA...</td>\n      <td>Joe and his parents are enjoying a summer holi...</td>\n      <td>2002.0</td>\n      <td>3.50</td>\n      <td>32.0</td>\n      <td>1.0</td>\n      <td>Ocean Star Express</td>\n      <td>Ocean Star Express</td>\n      <td>9780006646006 Joe and his parents are enjoying...</td>\n      <td>Children's Fiction</td>\n    </tr>\n    <tr>\n      <th>46</th>\n      <td>9780007121014</td>\n      <td>0007121016</td>\n      <td>Taken at the Flood</td>\n      <td>Agatha Christie</td>\n      <td>Fiction</td>\n      <td>http://books.google.com/books/content?id=3gWlx...</td>\n      <td>A Few Weeks After Marrying An Attractive Young...</td>\n      <td>2002.0</td>\n      <td>3.71</td>\n      <td>352.0</td>\n      <td>8852.0</td>\n      <td>Taken at the Flood</td>\n      <td>Taken at the Flood</td>\n      <td>9780007121014 A Few Weeks After Marrying An At...</td>\n      <td>Fiction</td>\n    </tr>\n    <tr>\n      <th>...</th>\n      <td>...</td>\n      <td>...</td>\n      <td>...</td>\n      <td>...</td>\n      <td>...</td>\n      <td>...</td>\n      <td>...</td>\n      <td>...</td>\n      <td>...</td>\n      <td>...</td>\n      <td>...</td>\n      <td>...</td>\n      <td>...</td>\n      <td>...</td>\n      <td>...</td>\n    </tr>\n    <tr>\n      <th>5178</th>\n      <td>9781933648279</td>\n      <td>1933648279</td>\n      <td>Night Has a Thousand Eyes</td>\n      <td>Cornell Woolrich</td>\n      <td>Fiction</td>\n      <td>http://books.google.com/books/content?id=3Gk6s...</td>\n      <td>\"Cornell Woolrich's novels define the essence ...</td>\n      <td>2007.0</td>\n      <td>3.77</td>\n      <td>344.0</td>\n      <td>680.0</td>\n      <td>Night Has a Thousand Eyes</td>\n      <td>Night Has a Thousand Eyes</td>\n      <td>9781933648279 \"Cornell Woolrich's novels defin...</td>\n      <td>Fiction</td>\n    </tr>\n    <tr>\n      <th>5188</th>\n      <td>9784770028969</td>\n      <td>4770028962</td>\n      <td>Coin Locker Babies</td>\n      <td>村上龍</td>\n      <td>Fiction</td>\n      <td>http://books.google.com/books/content?id=87DJw...</td>\n      <td>Rescued from the lockers in which they were le...</td>\n      <td>2002.0</td>\n      <td>3.75</td>\n      <td>393.0</td>\n      <td>5560.0</td>\n      <td>Coin Locker Babies</td>\n      <td>Coin Locker Babies</td>\n      <td>9784770028969 Rescued from the lockers in whic...</td>\n      <td>Fiction</td>\n    </tr>\n    <tr>\n      <th>5189</th>\n      <td>9788122200850</td>\n      <td>8122200850</td>\n      <td>Cry, the Peacock</td>\n      <td>Anita Desai</td>\n      <td>Fiction</td>\n      <td>http://books.google.com/books/content?id=_QKwV...</td>\n      <td>This book is the story of a young girl obsesse...</td>\n      <td>1980.0</td>\n      <td>3.22</td>\n      <td>218.0</td>\n      <td>134.0</td>\n      <td>Cry, the Peacock</td>\n      <td>Cry, the Peacock</td>\n      <td>9788122200850 This book is the story of a youn...</td>\n      <td>Fiction</td>\n    </tr>\n    <tr>\n      <th>5195</th>\n      <td>9788185300535</td>\n      <td>8185300534</td>\n      <td>I Am that</td>\n      <td>Sri Nisargadatta Maharaj;Sudhakar S. Dikshit</td>\n      <td>Philosophy</td>\n      <td>http://books.google.com/books/content?id=Fv_JP...</td>\n      <td>This collection of the timeless teachings of o...</td>\n      <td>1999.0</td>\n      <td>4.51</td>\n      <td>531.0</td>\n      <td>104.0</td>\n      <td>I Am that: Talks with Sri Nisargadatta Maharaj</td>\n      <td>I Am that: Talks with Sri Nisargadatta Maharaj</td>\n      <td>9788185300535 This collection of the timeless ...</td>\n      <td>Nonfiction</td>\n    </tr>\n    <tr>\n      <th>5196</th>\n      <td>9789027712059</td>\n      <td>9027712050</td>\n      <td>The Berlin Phenomenology</td>\n      <td>Georg Wilhelm Friedrich Hegel</td>\n      <td>History</td>\n      <td>http://books.google.com/books/content?id=Vy7Sk...</td>\n      <td>Since the three volume edition ofHegel's Philo...</td>\n      <td>1981.0</td>\n      <td>0.00</td>\n      <td>210.0</td>\n      <td>0.0</td>\n      <td>The Berlin Phenomenology</td>\n      <td>The Berlin Phenomenology</td>\n      <td>9789027712059 Since the three volume edition o...</td>\n      <td>Nonfiction</td>\n    </tr>\n  </tbody>\n</table>\n<p>3743 rows × 15 columns</p>\n</div>"
     },
     "execution_count": 6,
     "metadata": {},
     "output_type": "execute_result"
    }
   ],
   "source": [
    "books[~(books[\"simple_categories\"].isna())]"
   ],
   "metadata": {
    "collapsed": false,
    "ExecuteTime": {
     "end_time": "2025-02-02T19:42:59.957462Z",
     "start_time": "2025-02-02T19:42:59.933673Z"
    }
   },
   "id": "6816d833db0d6091",
   "execution_count": 6
  },
  {
   "cell_type": "code",
   "outputs": [
    {
     "name": "stderr",
     "output_type": "stream",
     "text": [
      "Device set to use cpu\n"
     ]
    }
   ],
   "source": [
    "from transformers import pipeline\n",
    "\n",
    "fiction_categories = [\"Fiction\", \"Nonfiction\"]\n",
    "\n",
    "pipe = pipeline(\"zero-shot-classification\",\n",
    "                model=\"facebook/bart-large-mnli\",\n",
    "                device=0)"
   ],
   "metadata": {
    "collapsed": false,
    "ExecuteTime": {
     "end_time": "2025-02-02T19:43:04.589652Z",
     "start_time": "2025-02-02T19:42:59.958997Z"
    }
   },
   "id": "42b56ee2bcf01257",
   "execution_count": 7
  },
  {
   "cell_type": "code",
   "outputs": [],
   "source": [
    "sequence = books.loc[books[\"simple_categories\"] == \"Fiction\",\"description\"].reset_index(drop=True)[0]"
   ],
   "metadata": {
    "collapsed": false,
    "ExecuteTime": {
     "end_time": "2025-02-02T19:43:04.593550Z",
     "start_time": "2025-02-02T19:43:04.590381Z"
    }
   },
   "id": "592562517efb8d53",
   "execution_count": 8
  },
  {
   "cell_type": "code",
   "outputs": [
    {
     "data": {
      "text/plain": "{'sequence': 'A NOVEL THAT READERS and critics have been eagerly anticipating for over a decade, Gilead is an astonishingly imagined story of remarkable lives. John Ames is a preacher, the son of a preacher and the grandson (both maternal and paternal) of preachers. It’s 1956 in Gilead, Iowa, towards the end of the Reverend Ames’s life, and he is absorbed in recording his family’s story, a legacy for the young son he will never see grow up. Haunted by his grandfather’s presence, John tells of the rift between his grandfather and his father: the elder, an angry visionary who fought for the abolitionist cause, and his son, an ardent pacifist. He is troubled, too, by his prodigal namesake, Jack (John Ames) Boughton, his best friend’s lost son who returns to Gilead searching for forgiveness and redemption. Told in John Ames’s joyous, rambling voice that finds beauty, humour and truth in the smallest of life’s details, Gilead is a song of celebration and acceptance of the best and the worst the world has to offer. At its heart is a tale of the sacred bonds between fathers and sons, pitch-perfect in style and story, set to dazzle critics and readers alike.',\n 'labels': ['Fiction', 'Nonfiction'],\n 'scores': [0.843826949596405, 0.15617305040359497]}"
     },
     "execution_count": 9,
     "metadata": {},
     "output_type": "execute_result"
    }
   ],
   "source": [
    "pipe(sequence, fiction_categories)"
   ],
   "metadata": {
    "collapsed": false,
    "ExecuteTime": {
     "end_time": "2025-02-02T19:43:06.337795Z",
     "start_time": "2025-02-02T19:43:04.594386Z"
    }
   },
   "id": "c6f5b67b80e69ff1",
   "execution_count": 9
  },
  {
   "cell_type": "code",
   "outputs": [],
   "source": [
    "import numpy as np\n",
    "\n",
    "def generate_predictions(sequence, categories):\n",
    " predictions = pipe(sequence, categories)\n",
    " max_index = np.argmax(predictions[\"scores\"])\n",
    " max_label = predictions[\"labels\"][max_index]\n",
    " return max_label"
   ],
   "metadata": {
    "collapsed": false,
    "ExecuteTime": {
     "end_time": "2025-02-02T19:43:06.341028Z",
     "start_time": "2025-02-02T19:43:06.338715Z"
    }
   },
   "id": "ce26a4f4f05e36f3",
   "execution_count": 10
  },
  {
   "cell_type": "code",
   "outputs": [
    {
     "data": {
      "text/plain": "'for i in tqdm(range(0,300)):\\n  sequence = books.loc[books[\"simple_categories\"] ==\"Fiction\",\"description\"].reset_index(drop=True)[i]\\n  predicted_cats += [generate_predictions(sequence, fiction_categories)]\\n  actual_cats += [\"Fiction\"]'"
     },
     "execution_count": 11,
     "metadata": {},
     "output_type": "execute_result"
    }
   ],
   "source": [
    "from tqdm import tqdm\n",
    "\n",
    "actual_cats = []\n",
    "predicted_cats = []\n",
    "\n",
    "'''for i in tqdm(range(0,300)):\n",
    "  sequence = books.loc[books[\"simple_categories\"] ==\"Fiction\",\"description\"].reset_index(drop=True)[i]\n",
    "  predicted_cats += [generate_predictions(sequence, fiction_categories)]\n",
    "  actual_cats += [\"Fiction\"]'''"
   ],
   "metadata": {
    "collapsed": false,
    "ExecuteTime": {
     "end_time": "2025-02-02T19:43:06.361953Z",
     "start_time": "2025-02-02T19:43:06.341689Z"
    }
   },
   "id": "f9423df103969a80",
   "execution_count": 11
  },
  {
   "cell_type": "code",
   "outputs": [
    {
     "data": {
      "text/plain": "'for i in tqdm(range(0,300)):\\n  sequence = books.loc[books[\"simple_categories\"] ==\"Nonfiction\",\"description\"].reset_index(drop=True)[i]\\n  predicted_cats += [generate_predictions(sequence, fiction_categories)]\\n  actual_cats += [\"Nonfiction\"]'"
     },
     "execution_count": 12,
     "metadata": {},
     "output_type": "execute_result"
    }
   ],
   "source": [
    "'''for i in tqdm(range(0,300)):\n",
    "  sequence = books.loc[books[\"simple_categories\"] ==\"Nonfiction\",\"description\"].reset_index(drop=True)[i]\n",
    "  predicted_cats += [generate_predictions(sequence, fiction_categories)]\n",
    "  actual_cats += [\"Nonfiction\"]'''"
   ],
   "metadata": {
    "collapsed": false,
    "ExecuteTime": {
     "end_time": "2025-02-02T19:43:06.372869Z",
     "start_time": "2025-02-02T19:43:06.362867Z"
    }
   },
   "id": "fa003c801efc40b5",
   "execution_count": 12
  },
  {
   "cell_type": "code",
   "outputs": [],
   "source": [
    "#predictions_df = pd.DataFrame({\"Actual\": actual_cats, \"Predicted\":predicted_cats})"
   ],
   "metadata": {
    "collapsed": false,
    "ExecuteTime": {
     "end_time": "2025-02-02T19:43:06.383231Z",
     "start_time": "2025-02-02T19:43:06.373816Z"
    }
   },
   "id": "5a03fa3ffdaecd3b",
   "execution_count": 13
  },
  {
   "cell_type": "code",
   "outputs": [],
   "source": [
    "#predictions_df"
   ],
   "metadata": {
    "collapsed": false,
    "ExecuteTime": {
     "end_time": "2025-02-02T19:43:06.393533Z",
     "start_time": "2025-02-02T19:43:06.383918Z"
    }
   },
   "id": "56c83c46bf4a4aa",
   "execution_count": 14
  },
  {
   "cell_type": "code",
   "outputs": [],
   "source": [
    "#predictions_df[\"correct_predictions\"] = (\n",
    "#    np.where(predictions_df[\"Predicted\"]==predictions_df[\"Actual\"], 1, 0)\n",
    "#)"
   ],
   "metadata": {
    "collapsed": false,
    "ExecuteTime": {
     "end_time": "2025-02-02T19:43:06.403929Z",
     "start_time": "2025-02-02T19:43:06.394405Z"
    }
   },
   "id": "ca734ec241516513",
   "execution_count": 15
  },
  {
   "cell_type": "code",
   "outputs": [],
   "source": [
    "#predictions_df[\"correct_predictions\"].sum() / len(predictions_df)"
   ],
   "metadata": {
    "collapsed": false,
    "ExecuteTime": {
     "end_time": "2025-02-02T19:43:06.414269Z",
     "start_time": "2025-02-02T19:43:06.404663Z"
    }
   },
   "id": "83aafbe2641d686",
   "execution_count": 16
  },
  {
   "cell_type": "code",
   "outputs": [],
   "source": [
    "isbns = []\n",
    "predicted_cats = []\n",
    "\n",
    "missing_cats = books.loc[books[\"simple_categories\"].isna(), [\"isbn13\", \"description\"]].reset_index(drop=True)"
   ],
   "metadata": {
    "collapsed": false,
    "ExecuteTime": {
     "end_time": "2025-02-02T19:44:03.280363Z",
     "start_time": "2025-02-02T19:44:03.272755Z"
    }
   },
   "id": "a2627f132bc7287f",
   "execution_count": 19
  },
  {
   "cell_type": "code",
   "outputs": [
    {
     "name": "stderr",
     "output_type": "stream",
     "text": [
      "100%|██████████| 1454/1454 [21:31<00:00,  1.13it/s]\n"
     ]
    }
   ],
   "source": [
    "for i in tqdm(range(0,len(missing_cats))):\n",
    "  sequence = missing_cats[\"description\"][i]\n",
    "  predicted_cats += [generate_predictions(sequence, fiction_categories)]\n",
    "  isbns += [missing_cats[\"isbn13\"][i]]"
   ],
   "metadata": {
    "collapsed": false,
    "ExecuteTime": {
     "end_time": "2025-02-02T20:05:36.209463Z",
     "start_time": "2025-02-02T19:44:05.028309Z"
    }
   },
   "id": "885f7e506673d9b4",
   "execution_count": 20
  },
  {
   "cell_type": "code",
   "outputs": [],
   "source": [
    "missing_predicted_df = pd.DataFrame({\"isbn13\":isbns, \"predicted_categories\":predicted_cats})\n"
   ],
   "metadata": {
    "collapsed": false,
    "ExecuteTime": {
     "end_time": "2025-02-02T20:10:40.770474Z",
     "start_time": "2025-02-02T20:10:40.765217Z"
    }
   },
   "id": "9e876823377b4bf",
   "execution_count": 21
  },
  {
   "cell_type": "code",
   "outputs": [
    {
     "data": {
      "text/plain": "             isbn13 predicted_categories\n0     9780002261982              Fiction\n1     9780006280897           Nonfiction\n2     9780006280934           Nonfiction\n3     9780006380832           Nonfiction\n4     9780006470229              Fiction\n...             ...                  ...\n1449  9788125026600           Nonfiction\n1450  9788171565641              Fiction\n1451  9788172235222              Fiction\n1452  9788173031014           Nonfiction\n1453  9788179921623              Fiction\n\n[1454 rows x 2 columns]",
      "text/html": "<div>\n<style scoped>\n    .dataframe tbody tr th:only-of-type {\n        vertical-align: middle;\n    }\n\n    .dataframe tbody tr th {\n        vertical-align: top;\n    }\n\n    .dataframe thead th {\n        text-align: right;\n    }\n</style>\n<table border=\"1\" class=\"dataframe\">\n  <thead>\n    <tr style=\"text-align: right;\">\n      <th></th>\n      <th>isbn13</th>\n      <th>predicted_categories</th>\n    </tr>\n  </thead>\n  <tbody>\n    <tr>\n      <th>0</th>\n      <td>9780002261982</td>\n      <td>Fiction</td>\n    </tr>\n    <tr>\n      <th>1</th>\n      <td>9780006280897</td>\n      <td>Nonfiction</td>\n    </tr>\n    <tr>\n      <th>2</th>\n      <td>9780006280934</td>\n      <td>Nonfiction</td>\n    </tr>\n    <tr>\n      <th>3</th>\n      <td>9780006380832</td>\n      <td>Nonfiction</td>\n    </tr>\n    <tr>\n      <th>4</th>\n      <td>9780006470229</td>\n      <td>Fiction</td>\n    </tr>\n    <tr>\n      <th>...</th>\n      <td>...</td>\n      <td>...</td>\n    </tr>\n    <tr>\n      <th>1449</th>\n      <td>9788125026600</td>\n      <td>Nonfiction</td>\n    </tr>\n    <tr>\n      <th>1450</th>\n      <td>9788171565641</td>\n      <td>Fiction</td>\n    </tr>\n    <tr>\n      <th>1451</th>\n      <td>9788172235222</td>\n      <td>Fiction</td>\n    </tr>\n    <tr>\n      <th>1452</th>\n      <td>9788173031014</td>\n      <td>Nonfiction</td>\n    </tr>\n    <tr>\n      <th>1453</th>\n      <td>9788179921623</td>\n      <td>Fiction</td>\n    </tr>\n  </tbody>\n</table>\n<p>1454 rows × 2 columns</p>\n</div>"
     },
     "execution_count": 22,
     "metadata": {},
     "output_type": "execute_result"
    }
   ],
   "source": [
    "missing_predicted_df"
   ],
   "metadata": {
    "collapsed": false,
    "ExecuteTime": {
     "end_time": "2025-02-02T20:10:52.768935Z",
     "start_time": "2025-02-02T20:10:52.763677Z"
    }
   },
   "id": "412c9334b1872c02",
   "execution_count": 22
  },
  {
   "cell_type": "code",
   "outputs": [],
   "source": [
    "books = pd.merge(books, missing_predicted_df, on=\"isbn13\", how=\"left\")\n",
    "books[\"simple_categories\"] = np.where(books[\"simple_categories\"].isna(), books[\"predicted_categories\"], books[\"simple_categories\"])\n",
    "books = books.drop(columns=[\"predicted_categories\"])"
   ],
   "metadata": {
    "collapsed": false,
    "ExecuteTime": {
     "end_time": "2025-02-02T20:18:53.231829Z",
     "start_time": "2025-02-02T20:18:53.224704Z"
    }
   },
   "id": "6167cca6fe87b217",
   "execution_count": 23
  },
  {
   "cell_type": "code",
   "outputs": [
    {
     "data": {
      "text/plain": "             isbn13      isbn10  \\\n0     9780002005883  0002005883   \n1     9780002261982  0002261987   \n2     9780006178736  0006178731   \n3     9780006280897  0006280897   \n4     9780006280934  0006280935   \n...             ...         ...   \n5192  9788172235222  8172235224   \n5193  9788173031014  8173031010   \n5194  9788179921623  817992162X   \n5195  9788185300535  8185300534   \n5196  9789027712059  9027712050   \n\n                                                  title  \\\n0                                                Gilead   \n1                                          Spider's Web   \n2                                        Rage of angels   \n3                                        The Four Loves   \n4                                   The Problem of Pain   \n...                                                 ...   \n5192                                  Mistaken Identity   \n5193                                Journey to the East   \n5194  The Monk Who Sold His Ferrari: A Fable About F...   \n5195                                          I Am that   \n5196                           The Berlin Phenomenology   \n\n                                           authors  \\\n0                               Marilynne Robinson   \n1                  Charles Osborne;Agatha Christie   \n2                                   Sidney Sheldon   \n3                              Clive Staples Lewis   \n4                              Clive Staples Lewis   \n...                                            ...   \n5192                              Nayantara Sahgal   \n5193                                 Hermann Hesse   \n5194                                  Robin Sharma   \n5195  Sri Nisargadatta Maharaj;Sudhakar S. Dikshit   \n5196                 Georg Wilhelm Friedrich Hegel   \n\n                         categories  \\\n0                           Fiction   \n1     Detective and mystery stories   \n2                           Fiction   \n3                    Christian life   \n4                    Christian life   \n...                             ...   \n5192        Indic fiction (English)   \n5193              Adventure stories   \n5194               Health & Fitness   \n5195                     Philosophy   \n5196                        History   \n\n                                              thumbnail  \\\n0     http://books.google.com/books/content?id=KQZCP...   \n1     http://books.google.com/books/content?id=gA5GP...   \n2     http://books.google.com/books/content?id=FKo2T...   \n3     http://books.google.com/books/content?id=XhQ5X...   \n4     http://books.google.com/books/content?id=Kk-uV...   \n...                                                 ...   \n5192  http://books.google.com/books/content?id=q-tKP...   \n5193  http://books.google.com/books/content?id=rq6JP...   \n5194  http://books.google.com/books/content?id=c_7mf...   \n5195  http://books.google.com/books/content?id=Fv_JP...   \n5196  http://books.google.com/books/content?id=Vy7Sk...   \n\n                                            description  published_year  \\\n0     A NOVEL THAT READERS and critics have been eag...          2004.0   \n1     A new 'Christie for Christmas' -- a full-lengt...          2000.0   \n2     A memorable, mesmerizing heroine Jennifer -- b...          1993.0   \n3     Lewis' work on the nature of love divides love...          2002.0   \n4     \"In The Problem of Pain, C.S. Lewis, one of th...          2002.0   \n...                                                 ...             ...   \n5192  On A Train Journey Home To North India After L...          2003.0   \n5193  This book tells the tale of a man who goes on ...          2002.0   \n5194  Wisdom to Create a Life of Passion, Purpose, a...          2003.0   \n5195  This collection of the timeless teachings of o...          1999.0   \n5196  Since the three volume edition ofHegel's Philo...          1981.0   \n\n      average_rating  num_pages  ratings_count  \\\n0               3.85      247.0          361.0   \n1               3.83      241.0         5164.0   \n2               3.93      512.0        29532.0   \n3               4.15      170.0        33684.0   \n4               4.09      176.0        37569.0   \n...              ...        ...            ...   \n5192            2.93      324.0            0.0   \n5193            3.70      175.0           24.0   \n5194            3.82      198.0         1568.0   \n5195            4.51      531.0          104.0   \n5196            0.00      210.0            0.0   \n\n                                     titll_and_subtitle  \\\n0                                                Gilead   \n1                                 Spider's Web: A Novel   \n2                                        Rage of angels   \n3                                        The Four Loves   \n4                                   The Problem of Pain   \n...                                                 ...   \n5192                                  Mistaken Identity   \n5193                                Journey to the East   \n5194  The Monk Who Sold His Ferrari: A Fable About F...   \n5195     I Am that: Talks with Sri Nisargadatta Maharaj   \n5196                           The Berlin Phenomenology   \n\n                                     title_and_subtitle  \\\n0                                                Gilead   \n1                                 Spider's Web: A Novel   \n2                                        Rage of angels   \n3                                        The Four Loves   \n4                                   The Problem of Pain   \n...                                                 ...   \n5192                                  Mistaken Identity   \n5193                                Journey to the East   \n5194  The Monk Who Sold His Ferrari: A Fable About F...   \n5195     I Am that: Talks with Sri Nisargadatta Maharaj   \n5196                           The Berlin Phenomenology   \n\n                                     tagged_description simple_categories  \n0     9780002005883 A NOVEL THAT READERS and critics...           Fiction  \n1     9780002261982 A new 'Christie for Christmas' -...           Fiction  \n2     9780006178736 A memorable, mesmerizing heroine...           Fiction  \n3     9780006280897 Lewis' work on the nature of lov...        Nonfiction  \n4     9780006280934 \"In The Problem of Pain, C.S. Le...        Nonfiction  \n...                                                 ...               ...  \n5192  9788172235222 On A Train Journey Home To North...           Fiction  \n5193  9788173031014 This book tells the tale of a ma...        Nonfiction  \n5194  9788179921623 Wisdom to Create a Life of Passi...           Fiction  \n5195  9788185300535 This collection of the timeless ...        Nonfiction  \n5196  9789027712059 Since the three volume edition o...        Nonfiction  \n\n[5197 rows x 15 columns]",
      "text/html": "<div>\n<style scoped>\n    .dataframe tbody tr th:only-of-type {\n        vertical-align: middle;\n    }\n\n    .dataframe tbody tr th {\n        vertical-align: top;\n    }\n\n    .dataframe thead th {\n        text-align: right;\n    }\n</style>\n<table border=\"1\" class=\"dataframe\">\n  <thead>\n    <tr style=\"text-align: right;\">\n      <th></th>\n      <th>isbn13</th>\n      <th>isbn10</th>\n      <th>title</th>\n      <th>authors</th>\n      <th>categories</th>\n      <th>thumbnail</th>\n      <th>description</th>\n      <th>published_year</th>\n      <th>average_rating</th>\n      <th>num_pages</th>\n      <th>ratings_count</th>\n      <th>titll_and_subtitle</th>\n      <th>title_and_subtitle</th>\n      <th>tagged_description</th>\n      <th>simple_categories</th>\n    </tr>\n  </thead>\n  <tbody>\n    <tr>\n      <th>0</th>\n      <td>9780002005883</td>\n      <td>0002005883</td>\n      <td>Gilead</td>\n      <td>Marilynne Robinson</td>\n      <td>Fiction</td>\n      <td>http://books.google.com/books/content?id=KQZCP...</td>\n      <td>A NOVEL THAT READERS and critics have been eag...</td>\n      <td>2004.0</td>\n      <td>3.85</td>\n      <td>247.0</td>\n      <td>361.0</td>\n      <td>Gilead</td>\n      <td>Gilead</td>\n      <td>9780002005883 A NOVEL THAT READERS and critics...</td>\n      <td>Fiction</td>\n    </tr>\n    <tr>\n      <th>1</th>\n      <td>9780002261982</td>\n      <td>0002261987</td>\n      <td>Spider's Web</td>\n      <td>Charles Osborne;Agatha Christie</td>\n      <td>Detective and mystery stories</td>\n      <td>http://books.google.com/books/content?id=gA5GP...</td>\n      <td>A new 'Christie for Christmas' -- a full-lengt...</td>\n      <td>2000.0</td>\n      <td>3.83</td>\n      <td>241.0</td>\n      <td>5164.0</td>\n      <td>Spider's Web: A Novel</td>\n      <td>Spider's Web: A Novel</td>\n      <td>9780002261982 A new 'Christie for Christmas' -...</td>\n      <td>Fiction</td>\n    </tr>\n    <tr>\n      <th>2</th>\n      <td>9780006178736</td>\n      <td>0006178731</td>\n      <td>Rage of angels</td>\n      <td>Sidney Sheldon</td>\n      <td>Fiction</td>\n      <td>http://books.google.com/books/content?id=FKo2T...</td>\n      <td>A memorable, mesmerizing heroine Jennifer -- b...</td>\n      <td>1993.0</td>\n      <td>3.93</td>\n      <td>512.0</td>\n      <td>29532.0</td>\n      <td>Rage of angels</td>\n      <td>Rage of angels</td>\n      <td>9780006178736 A memorable, mesmerizing heroine...</td>\n      <td>Fiction</td>\n    </tr>\n    <tr>\n      <th>3</th>\n      <td>9780006280897</td>\n      <td>0006280897</td>\n      <td>The Four Loves</td>\n      <td>Clive Staples Lewis</td>\n      <td>Christian life</td>\n      <td>http://books.google.com/books/content?id=XhQ5X...</td>\n      <td>Lewis' work on the nature of love divides love...</td>\n      <td>2002.0</td>\n      <td>4.15</td>\n      <td>170.0</td>\n      <td>33684.0</td>\n      <td>The Four Loves</td>\n      <td>The Four Loves</td>\n      <td>9780006280897 Lewis' work on the nature of lov...</td>\n      <td>Nonfiction</td>\n    </tr>\n    <tr>\n      <th>4</th>\n      <td>9780006280934</td>\n      <td>0006280935</td>\n      <td>The Problem of Pain</td>\n      <td>Clive Staples Lewis</td>\n      <td>Christian life</td>\n      <td>http://books.google.com/books/content?id=Kk-uV...</td>\n      <td>\"In The Problem of Pain, C.S. Lewis, one of th...</td>\n      <td>2002.0</td>\n      <td>4.09</td>\n      <td>176.0</td>\n      <td>37569.0</td>\n      <td>The Problem of Pain</td>\n      <td>The Problem of Pain</td>\n      <td>9780006280934 \"In The Problem of Pain, C.S. Le...</td>\n      <td>Nonfiction</td>\n    </tr>\n    <tr>\n      <th>...</th>\n      <td>...</td>\n      <td>...</td>\n      <td>...</td>\n      <td>...</td>\n      <td>...</td>\n      <td>...</td>\n      <td>...</td>\n      <td>...</td>\n      <td>...</td>\n      <td>...</td>\n      <td>...</td>\n      <td>...</td>\n      <td>...</td>\n      <td>...</td>\n      <td>...</td>\n    </tr>\n    <tr>\n      <th>5192</th>\n      <td>9788172235222</td>\n      <td>8172235224</td>\n      <td>Mistaken Identity</td>\n      <td>Nayantara Sahgal</td>\n      <td>Indic fiction (English)</td>\n      <td>http://books.google.com/books/content?id=q-tKP...</td>\n      <td>On A Train Journey Home To North India After L...</td>\n      <td>2003.0</td>\n      <td>2.93</td>\n      <td>324.0</td>\n      <td>0.0</td>\n      <td>Mistaken Identity</td>\n      <td>Mistaken Identity</td>\n      <td>9788172235222 On A Train Journey Home To North...</td>\n      <td>Fiction</td>\n    </tr>\n    <tr>\n      <th>5193</th>\n      <td>9788173031014</td>\n      <td>8173031010</td>\n      <td>Journey to the East</td>\n      <td>Hermann Hesse</td>\n      <td>Adventure stories</td>\n      <td>http://books.google.com/books/content?id=rq6JP...</td>\n      <td>This book tells the tale of a man who goes on ...</td>\n      <td>2002.0</td>\n      <td>3.70</td>\n      <td>175.0</td>\n      <td>24.0</td>\n      <td>Journey to the East</td>\n      <td>Journey to the East</td>\n      <td>9788173031014 This book tells the tale of a ma...</td>\n      <td>Nonfiction</td>\n    </tr>\n    <tr>\n      <th>5194</th>\n      <td>9788179921623</td>\n      <td>817992162X</td>\n      <td>The Monk Who Sold His Ferrari: A Fable About F...</td>\n      <td>Robin Sharma</td>\n      <td>Health &amp; Fitness</td>\n      <td>http://books.google.com/books/content?id=c_7mf...</td>\n      <td>Wisdom to Create a Life of Passion, Purpose, a...</td>\n      <td>2003.0</td>\n      <td>3.82</td>\n      <td>198.0</td>\n      <td>1568.0</td>\n      <td>The Monk Who Sold His Ferrari: A Fable About F...</td>\n      <td>The Monk Who Sold His Ferrari: A Fable About F...</td>\n      <td>9788179921623 Wisdom to Create a Life of Passi...</td>\n      <td>Fiction</td>\n    </tr>\n    <tr>\n      <th>5195</th>\n      <td>9788185300535</td>\n      <td>8185300534</td>\n      <td>I Am that</td>\n      <td>Sri Nisargadatta Maharaj;Sudhakar S. Dikshit</td>\n      <td>Philosophy</td>\n      <td>http://books.google.com/books/content?id=Fv_JP...</td>\n      <td>This collection of the timeless teachings of o...</td>\n      <td>1999.0</td>\n      <td>4.51</td>\n      <td>531.0</td>\n      <td>104.0</td>\n      <td>I Am that: Talks with Sri Nisargadatta Maharaj</td>\n      <td>I Am that: Talks with Sri Nisargadatta Maharaj</td>\n      <td>9788185300535 This collection of the timeless ...</td>\n      <td>Nonfiction</td>\n    </tr>\n    <tr>\n      <th>5196</th>\n      <td>9789027712059</td>\n      <td>9027712050</td>\n      <td>The Berlin Phenomenology</td>\n      <td>Georg Wilhelm Friedrich Hegel</td>\n      <td>History</td>\n      <td>http://books.google.com/books/content?id=Vy7Sk...</td>\n      <td>Since the three volume edition ofHegel's Philo...</td>\n      <td>1981.0</td>\n      <td>0.00</td>\n      <td>210.0</td>\n      <td>0.0</td>\n      <td>The Berlin Phenomenology</td>\n      <td>The Berlin Phenomenology</td>\n      <td>9789027712059 Since the three volume edition o...</td>\n      <td>Nonfiction</td>\n    </tr>\n  </tbody>\n</table>\n<p>5197 rows × 15 columns</p>\n</div>"
     },
     "execution_count": 24,
     "metadata": {},
     "output_type": "execute_result"
    }
   ],
   "source": [
    "books"
   ],
   "metadata": {
    "collapsed": false,
    "ExecuteTime": {
     "end_time": "2025-02-02T20:19:04.434104Z",
     "start_time": "2025-02-02T20:19:04.425540Z"
    }
   },
   "id": "3cfedae05aec1f6b",
   "execution_count": 24
  },
  {
   "cell_type": "code",
   "outputs": [],
   "source": [
    "books.to_csv(\"books_with_categories.csv\", index=False)"
   ],
   "metadata": {
    "collapsed": false,
    "ExecuteTime": {
     "end_time": "2025-02-02T20:20:43.846959Z",
     "start_time": "2025-02-02T20:20:43.786111Z"
    }
   },
   "id": "e66f22c8bca92bd0",
   "execution_count": 25
  },
  {
   "cell_type": "code",
   "outputs": [],
   "source": [],
   "metadata": {
    "collapsed": false
   },
   "id": "14d522b64bb1386c"
  }
 ],
 "metadata": {
  "kernelspec": {
   "display_name": "Python 3",
   "language": "python",
   "name": "python3"
  },
  "language_info": {
   "codemirror_mode": {
    "name": "ipython",
    "version": 2
   },
   "file_extension": ".py",
   "mimetype": "text/x-python",
   "name": "python",
   "nbconvert_exporter": "python",
   "pygments_lexer": "ipython2",
   "version": "2.7.6"
  }
 },
 "nbformat": 4,
 "nbformat_minor": 5
}
