{
 "cells": [
  {
   "cell_type": "code",
   "execution_count": 1,
   "id": "initial_id",
   "metadata": {
    "collapsed": true,
    "ExecuteTime": {
     "end_time": "2025-02-02T20:23:19.206146Z",
     "start_time": "2025-02-02T20:23:19.159121Z"
    }
   },
   "outputs": [],
   "source": [
    "import pandas as pd\n",
    "\n",
    "books = pd.read_csv(\"books_with_categories.csv\")"
   ]
  },
  {
   "cell_type": "code",
   "outputs": [
    {
     "name": "stderr",
     "output_type": "stream",
     "text": [
      "Device set to use cpu\n"
     ]
    },
    {
     "data": {
      "text/plain": "[[{'label': 'joy', 'score': 0.981096088886261},\n  {'label': 'neutral', 'score': 0.006237093824893236},\n  {'label': 'surprise', 'score': 0.004065955989062786},\n  {'label': 'sadness', 'score': 0.0033815482165664434},\n  {'label': 'anger', 'score': 0.0024693261366337538},\n  {'label': 'disgust', 'score': 0.0023382133804261684},\n  {'label': 'fear', 'score': 0.0004116914060432464}]]"
     },
     "execution_count": 3,
     "metadata": {},
     "output_type": "execute_result"
    }
   ],
   "source": [
    "from transformers import pipeline\n",
    "\n",
    "classifier = pipeline(\"text-classification\", \n",
    "                      model=\"j-hartmann/emotion-english-distilroberta-base\",\n",
    "                      device=\"cpu\",\n",
    "                      top_k=None)\n",
    "\n",
    "classifier(\"I love this.\")"
   ],
   "metadata": {
    "collapsed": false,
    "ExecuteTime": {
     "end_time": "2025-02-02T20:30:40.077982Z",
     "start_time": "2025-02-02T20:30:39.608641Z"
    }
   },
   "id": "f33392af1ea79638",
   "execution_count": 3
  },
  {
   "cell_type": "code",
   "outputs": [
    {
     "data": {
      "text/plain": "'A NOVEL THAT READERS and critics have been eagerly anticipating for over a decade, Gilead is an astonishingly imagined story of remarkable lives. John Ames is a preacher, the son of a preacher and the grandson (both maternal and paternal) of preachers. It’s 1956 in Gilead, Iowa, towards the end of the Reverend Ames’s life, and he is absorbed in recording his family’s story, a legacy for the young son he will never see grow up. Haunted by his grandfather’s presence, John tells of the rift between his grandfather and his father: the elder, an angry visionary who fought for the abolitionist cause, and his son, an ardent pacifist. He is troubled, too, by his prodigal namesake, Jack (John Ames) Boughton, his best friend’s lost son who returns to Gilead searching for forgiveness and redemption. Told in John Ames’s joyous, rambling voice that finds beauty, humour and truth in the smallest of life’s details, Gilead is a song of celebration and acceptance of the best and the worst the world has to offer. At its heart is a tale of the sacred bonds between fathers and sons, pitch-perfect in style and story, set to dazzle critics and readers alike.'"
     },
     "execution_count": 4,
     "metadata": {},
     "output_type": "execute_result"
    }
   ],
   "source": [
    "books[\"description\"][0]"
   ],
   "metadata": {
    "collapsed": false,
    "ExecuteTime": {
     "end_time": "2025-02-02T20:31:03.479237Z",
     "start_time": "2025-02-02T20:31:03.475549Z"
    }
   },
   "id": "dca7222ff5f30817",
   "execution_count": 4
  },
  {
   "cell_type": "code",
   "outputs": [
    {
     "data": {
      "text/plain": "[[{'label': 'fear', 'score': 0.6548399329185486},\n  {'label': 'neutral', 'score': 0.1698525846004486},\n  {'label': 'sadness', 'score': 0.11640949547290802},\n  {'label': 'surprise', 'score': 0.020700670778751373},\n  {'label': 'disgust', 'score': 0.019100721925497055},\n  {'label': 'joy', 'score': 0.015161491930484772},\n  {'label': 'anger', 'score': 0.003935153596103191}]]"
     },
     "execution_count": 5,
     "metadata": {},
     "output_type": "execute_result"
    }
   ],
   "source": [
    "classifier(books[\"description\"][0])"
   ],
   "metadata": {
    "collapsed": false,
    "ExecuteTime": {
     "end_time": "2025-02-02T20:31:32.035577Z",
     "start_time": "2025-02-02T20:31:31.960585Z"
    }
   },
   "id": "39c3985ec0d85343",
   "execution_count": 5
  },
  {
   "cell_type": "code",
   "outputs": [
    {
     "data": {
      "text/plain": "[[{'label': 'surprise', 'score': 0.7296022176742554},\n  {'label': 'neutral', 'score': 0.14038582146167755},\n  {'label': 'fear', 'score': 0.06816232949495316},\n  {'label': 'joy', 'score': 0.04794264957308769},\n  {'label': 'anger', 'score': 0.009156368672847748},\n  {'label': 'disgust', 'score': 0.002628475660458207},\n  {'label': 'sadness', 'score': 0.0021221640054136515}],\n [{'label': 'neutral', 'score': 0.4493701756000519},\n  {'label': 'disgust', 'score': 0.2735918462276459},\n  {'label': 'joy', 'score': 0.10908295959234238},\n  {'label': 'sadness', 'score': 0.09362742304801941},\n  {'label': 'anger', 'score': 0.040478307753801346},\n  {'label': 'surprise', 'score': 0.026970168575644493},\n  {'label': 'fear', 'score': 0.006879052147269249}],\n [{'label': 'neutral', 'score': 0.6462159156799316},\n  {'label': 'sadness', 'score': 0.24273331463336945},\n  {'label': 'disgust', 'score': 0.043422672897577286},\n  {'label': 'surprise', 'score': 0.0283005703240633},\n  {'label': 'joy', 'score': 0.01421149168163538},\n  {'label': 'fear', 'score': 0.01408409047871828},\n  {'label': 'anger', 'score': 0.011031895875930786}],\n [{'label': 'fear', 'score': 0.9281684160232544},\n  {'label': 'anger', 'score': 0.03219073265790939},\n  {'label': 'neutral', 'score': 0.01280864980071783},\n  {'label': 'sadness', 'score': 0.00875686015933752},\n  {'label': 'surprise', 'score': 0.00859790202230215},\n  {'label': 'disgust', 'score': 0.008431804366409779},\n  {'label': 'joy', 'score': 0.0010455824667587876}],\n [{'label': 'sadness', 'score': 0.9671575427055359},\n  {'label': 'neutral', 'score': 0.015104148536920547},\n  {'label': 'disgust', 'score': 0.00648059556260705},\n  {'label': 'fear', 'score': 0.005393987521529198},\n  {'label': 'surprise', 'score': 0.0022869419772177935},\n  {'label': 'anger', 'score': 0.001842890284024179},\n  {'label': 'joy', 'score': 0.0017338789766654372}],\n [{'label': 'joy', 'score': 0.932798445224762},\n  {'label': 'disgust', 'score': 0.037716738879680634},\n  {'label': 'neutral', 'score': 0.01589176431298256},\n  {'label': 'sadness', 'score': 0.006444471422582865},\n  {'label': 'anger', 'score': 0.005024938844144344},\n  {'label': 'surprise', 'score': 0.0015812034253031015},\n  {'label': 'fear', 'score': 0.00054230383830145}],\n [{'label': 'joy', 'score': 0.6528707146644592},\n  {'label': 'neutral', 'score': 0.2542749047279358},\n  {'label': 'surprise', 'score': 0.06808285415172577},\n  {'label': 'sadness', 'score': 0.009908989071846008},\n  {'label': 'disgust', 'score': 0.006512219086289406},\n  {'label': 'anger', 'score': 0.004821303766220808},\n  {'label': 'fear', 'score': 0.003529011970385909}],\n [{'label': 'neutral', 'score': 0.5494765639305115},\n  {'label': 'sadness', 'score': 0.1116902306675911},\n  {'label': 'disgust', 'score': 0.10400673747062683},\n  {'label': 'surprise', 'score': 0.07876548916101456},\n  {'label': 'anger', 'score': 0.0641336515545845},\n  {'label': 'fear', 'score': 0.051362842321395874},\n  {'label': 'joy', 'score': 0.04056442156434059}]]"
     },
     "execution_count": 6,
     "metadata": {},
     "output_type": "execute_result"
    }
   ],
   "source": [
    "classifier(books[\"description\"][0].split(\".\"))"
   ],
   "metadata": {
    "collapsed": false,
    "ExecuteTime": {
     "end_time": "2025-02-02T20:33:41.786997Z",
     "start_time": "2025-02-02T20:33:41.658477Z"
    }
   },
   "id": "2ef79a87af97768e",
   "execution_count": 6
  },
  {
   "cell_type": "code",
   "outputs": [],
   "source": [
    "import numpy as np\n",
    "emotion_labels  = [\"anger\", \"disgust\", \"fear\",\"joy\", \"sadness\", \"surprise\", \"neutral\"]\n",
    "isbn = []\n",
    "\n",
    "emotion_scores = {label: [] for label in emotion_labels}\n",
    "\n",
    "def calculate_max_emotion_scores(predictions):\n",
    "    per_emotion_scores = {label: [] for label in emotion_labels}\n",
    "    for prediction in predictions:\n",
    "        sorted_predictions = sorted(prediction, key =lambda x : x[\"label\"])\n",
    "        for index, label in enumerate(emotion_labels):\n",
    "            per_emotion_scores[label].append(sorted_predictions[index][\"score\"])\n",
    "    return {label: np.max(scores) for label, scores in per_emotion_scores.items()}"
   ],
   "metadata": {
    "collapsed": false,
    "ExecuteTime": {
     "end_time": "2025-02-02T20:40:52.620796Z",
     "start_time": "2025-02-02T20:40:52.616459Z"
    }
   },
   "id": "13e1d41bc53d71c7",
   "execution_count": 7
  },
  {
   "cell_type": "code",
   "outputs": [],
   "source": [
    "for i in range(10):\n",
    "    isbn.append(books[\"isbn13\"][i])\n",
    "    sentences = books[\"description\"][i].split(\".\")\n",
    "    predictions = classifier(sentences)\n",
    "    max_scores = calculate_max_emotion_scores(predictions)\n",
    "    for label in emotion_labels:\n",
    "        emotion_scores[label].append(max_scores[label])"
   ],
   "metadata": {
    "collapsed": false,
    "ExecuteTime": {
     "end_time": "2025-02-02T20:43:00.464942Z",
     "start_time": "2025-02-02T20:42:59.612001Z"
    }
   },
   "id": "f10b6188847af033",
   "execution_count": 9
  },
  {
   "cell_type": "code",
   "outputs": [
    {
     "data": {
      "text/plain": "{'anger': [0.0641336515545845,\n  0.6126195192337036,\n  0.0641336515545845,\n  0.3514842689037323,\n  0.08141250908374786,\n  0.23222456872463226,\n  0.5381842255592346,\n  0.0641336515545845,\n  0.3006702661514282,\n  0.0641336515545845],\n 'disgust': [0.2735918462276459,\n  0.3482843339443207,\n  0.10400673747062683,\n  0.15072248876094818,\n  0.1844957321882248,\n  0.7271750569343567,\n  0.15585477650165558,\n  0.10400673747062683,\n  0.2794811725616455,\n  0.1779264211654663],\n 'fear': [0.9281684160232544,\n  0.942527711391449,\n  0.9723208546638489,\n  0.3607058823108673,\n  0.09504346549510956,\n  0.051362842321395874,\n  0.7474277019500732,\n  0.4044981896877289,\n  0.9155241250991821,\n  0.051362842321395874],\n 'joy': [0.932798445224762,\n  0.7044222354888916,\n  0.7672381401062012,\n  0.2518811821937561,\n  0.04056442156434059,\n  0.04337584972381592,\n  0.872565746307373,\n  0.04056442156434059,\n  0.04056442156434059,\n  0.04056442156434059],\n 'sadness': [0.6462159156799316,\n  0.887939453125,\n  0.5494765639305115,\n  0.7326849102973938,\n  0.8843895196914673,\n  0.6213916540145874,\n  0.7121940851211548,\n  0.5494765639305115,\n  0.8402889370918274,\n  0.8603721857070923],\n 'surprise': [0.9671575427055359,\n  0.1116902306675911,\n  0.1116902306675911,\n  0.1116902306675911,\n  0.4758802652359009,\n  0.1116902306675911,\n  0.40799960494041443,\n  0.8202826380729675,\n  0.3544611632823944,\n  0.1116902306675911],\n 'neutral': [0.7296022176742554,\n  0.25254586338996887,\n  0.07876548916101456,\n  0.07876548916101456,\n  0.07876548916101456,\n  0.2719036936759949,\n  0.07876548916101456,\n  0.23448656499385834,\n  0.13561366498470306,\n  0.07876548916101456]}"
     },
     "execution_count": 10,
     "metadata": {},
     "output_type": "execute_result"
    }
   ],
   "source": [
    "emotion_scores"
   ],
   "metadata": {
    "collapsed": false,
    "ExecuteTime": {
     "end_time": "2025-02-02T20:43:12.860857Z",
     "start_time": "2025-02-02T20:43:12.857028Z"
    }
   },
   "id": "8259f8deda20e91b",
   "execution_count": 10
  },
  {
   "cell_type": "code",
   "outputs": [
    {
     "name": "stderr",
     "output_type": "stream",
     "text": [
      "100%|██████████| 5197/5197 [05:23<00:00, 16.07it/s]\n"
     ]
    }
   ],
   "source": [
    "from tqdm import tqdm\n",
    "\n",
    "emotion_labels  = [\"anger\", \"disgust\", \"fear\",\"joy\", \"sadness\", \"surprise\", \"neutral\"]\n",
    "isbn = []\n",
    "emotion_scores = {label: [] for label in emotion_labels}\n",
    "\n",
    "for i in tqdm(range(len(books))):\n",
    "    isbn.append(books[\"isbn13\"][i])\n",
    "    sentences = books[\"description\"][i].split(\".\")\n",
    "    predictions = classifier(sentences)\n",
    "    max_scores = calculate_max_emotion_scores(predictions)\n",
    "    for label in emotion_labels:\n",
    "        emotion_scores[label].append(max_scores[label])"
   ],
   "metadata": {
    "collapsed": false,
    "ExecuteTime": {
     "end_time": "2025-02-02T20:55:58.672726Z",
     "start_time": "2025-02-02T20:50:35.305691Z"
    }
   },
   "id": "f5590f5b3e1e41ea",
   "execution_count": 12
  },
  {
   "cell_type": "code",
   "outputs": [],
   "source": [
    "emotions_df = pd.DataFrame(emotion_scores)\n",
    "emotions_df[\"isbn13\"] = isbn"
   ],
   "metadata": {
    "collapsed": false,
    "ExecuteTime": {
     "end_time": "2025-02-02T20:57:41.599395Z",
     "start_time": "2025-02-02T20:57:41.584001Z"
    }
   },
   "id": "770a7a8a3c7a0e2e",
   "execution_count": 13
  },
  {
   "cell_type": "code",
   "outputs": [
    {
     "data": {
      "text/plain": "         anger   disgust      fear       joy   sadness  surprise   neutral  \\\n0     0.064134  0.273592  0.928168  0.932798  0.646216  0.967158  0.729602   \n1     0.612620  0.348284  0.942528  0.704422  0.887939  0.111690  0.252546   \n2     0.064134  0.104007  0.972321  0.767238  0.549477  0.111690  0.078765   \n3     0.351484  0.150722  0.360706  0.251881  0.732685  0.111690  0.078765   \n4     0.081413  0.184496  0.095043  0.040564  0.884390  0.475880  0.078765   \n...        ...       ...       ...       ...       ...       ...       ...   \n5192  0.148209  0.030643  0.919165  0.255172  0.853721  0.980877  0.030656   \n5193  0.064134  0.114383  0.051363  0.400263  0.883198  0.111690  0.227765   \n5194  0.009997  0.009929  0.339217  0.947779  0.375755  0.066685  0.057625   \n5195  0.064134  0.104007  0.459269  0.759457  0.951104  0.368111  0.078765   \n5196  0.064134  0.104007  0.051363  0.958549  0.915193  0.111690  0.078765   \n\n             isbn13  \n0     9780002005883  \n1     9780002261982  \n2     9780006178736  \n3     9780006280897  \n4     9780006280934  \n...             ...  \n5192  9788172235222  \n5193  9788173031014  \n5194  9788179921623  \n5195  9788185300535  \n5196  9789027712059  \n\n[5197 rows x 8 columns]",
      "text/html": "<div>\n<style scoped>\n    .dataframe tbody tr th:only-of-type {\n        vertical-align: middle;\n    }\n\n    .dataframe tbody tr th {\n        vertical-align: top;\n    }\n\n    .dataframe thead th {\n        text-align: right;\n    }\n</style>\n<table border=\"1\" class=\"dataframe\">\n  <thead>\n    <tr style=\"text-align: right;\">\n      <th></th>\n      <th>anger</th>\n      <th>disgust</th>\n      <th>fear</th>\n      <th>joy</th>\n      <th>sadness</th>\n      <th>surprise</th>\n      <th>neutral</th>\n      <th>isbn13</th>\n    </tr>\n  </thead>\n  <tbody>\n    <tr>\n      <th>0</th>\n      <td>0.064134</td>\n      <td>0.273592</td>\n      <td>0.928168</td>\n      <td>0.932798</td>\n      <td>0.646216</td>\n      <td>0.967158</td>\n      <td>0.729602</td>\n      <td>9780002005883</td>\n    </tr>\n    <tr>\n      <th>1</th>\n      <td>0.612620</td>\n      <td>0.348284</td>\n      <td>0.942528</td>\n      <td>0.704422</td>\n      <td>0.887939</td>\n      <td>0.111690</td>\n      <td>0.252546</td>\n      <td>9780002261982</td>\n    </tr>\n    <tr>\n      <th>2</th>\n      <td>0.064134</td>\n      <td>0.104007</td>\n      <td>0.972321</td>\n      <td>0.767238</td>\n      <td>0.549477</td>\n      <td>0.111690</td>\n      <td>0.078765</td>\n      <td>9780006178736</td>\n    </tr>\n    <tr>\n      <th>3</th>\n      <td>0.351484</td>\n      <td>0.150722</td>\n      <td>0.360706</td>\n      <td>0.251881</td>\n      <td>0.732685</td>\n      <td>0.111690</td>\n      <td>0.078765</td>\n      <td>9780006280897</td>\n    </tr>\n    <tr>\n      <th>4</th>\n      <td>0.081413</td>\n      <td>0.184496</td>\n      <td>0.095043</td>\n      <td>0.040564</td>\n      <td>0.884390</td>\n      <td>0.475880</td>\n      <td>0.078765</td>\n      <td>9780006280934</td>\n    </tr>\n    <tr>\n      <th>...</th>\n      <td>...</td>\n      <td>...</td>\n      <td>...</td>\n      <td>...</td>\n      <td>...</td>\n      <td>...</td>\n      <td>...</td>\n      <td>...</td>\n    </tr>\n    <tr>\n      <th>5192</th>\n      <td>0.148209</td>\n      <td>0.030643</td>\n      <td>0.919165</td>\n      <td>0.255172</td>\n      <td>0.853721</td>\n      <td>0.980877</td>\n      <td>0.030656</td>\n      <td>9788172235222</td>\n    </tr>\n    <tr>\n      <th>5193</th>\n      <td>0.064134</td>\n      <td>0.114383</td>\n      <td>0.051363</td>\n      <td>0.400263</td>\n      <td>0.883198</td>\n      <td>0.111690</td>\n      <td>0.227765</td>\n      <td>9788173031014</td>\n    </tr>\n    <tr>\n      <th>5194</th>\n      <td>0.009997</td>\n      <td>0.009929</td>\n      <td>0.339217</td>\n      <td>0.947779</td>\n      <td>0.375755</td>\n      <td>0.066685</td>\n      <td>0.057625</td>\n      <td>9788179921623</td>\n    </tr>\n    <tr>\n      <th>5195</th>\n      <td>0.064134</td>\n      <td>0.104007</td>\n      <td>0.459269</td>\n      <td>0.759457</td>\n      <td>0.951104</td>\n      <td>0.368111</td>\n      <td>0.078765</td>\n      <td>9788185300535</td>\n    </tr>\n    <tr>\n      <th>5196</th>\n      <td>0.064134</td>\n      <td>0.104007</td>\n      <td>0.051363</td>\n      <td>0.958549</td>\n      <td>0.915193</td>\n      <td>0.111690</td>\n      <td>0.078765</td>\n      <td>9789027712059</td>\n    </tr>\n  </tbody>\n</table>\n<p>5197 rows × 8 columns</p>\n</div>"
     },
     "execution_count": 14,
     "metadata": {},
     "output_type": "execute_result"
    }
   ],
   "source": [
    "emotions_df"
   ],
   "metadata": {
    "collapsed": false,
    "ExecuteTime": {
     "end_time": "2025-02-02T20:57:52.852516Z",
     "start_time": "2025-02-02T20:57:52.845064Z"
    }
   },
   "id": "e832eb1a5a569b6a",
   "execution_count": 14
  },
  {
   "cell_type": "code",
   "outputs": [],
   "source": [
    "books = pd.merge(books, emotions_df, on = \"isbn13\")"
   ],
   "metadata": {
    "collapsed": false,
    "ExecuteTime": {
     "end_time": "2025-02-02T21:00:01.810420Z",
     "start_time": "2025-02-02T21:00:01.805192Z"
    }
   },
   "id": "b78256487c2efb2f",
   "execution_count": 16
  },
  {
   "cell_type": "code",
   "outputs": [
    {
     "data": {
      "text/plain": "             isbn13      isbn10  \\\n0     9780002005883  0002005883   \n1     9780002261982  0002261987   \n2     9780006178736  0006178731   \n3     9780006280897  0006280897   \n4     9780006280934  0006280935   \n...             ...         ...   \n5192  9788172235222  8172235224   \n5193  9788173031014  8173031010   \n5194  9788179921623  817992162X   \n5195  9788185300535  8185300534   \n5196  9789027712059  9027712050   \n\n                                                  title  \\\n0                                                Gilead   \n1                                          Spider's Web   \n2                                        Rage of angels   \n3                                        The Four Loves   \n4                                   The Problem of Pain   \n...                                                 ...   \n5192                                  Mistaken Identity   \n5193                                Journey to the East   \n5194  The Monk Who Sold His Ferrari: A Fable About F...   \n5195                                          I Am that   \n5196                           The Berlin Phenomenology   \n\n                                           authors  \\\n0                               Marilynne Robinson   \n1                  Charles Osborne;Agatha Christie   \n2                                   Sidney Sheldon   \n3                              Clive Staples Lewis   \n4                              Clive Staples Lewis   \n...                                            ...   \n5192                              Nayantara Sahgal   \n5193                                 Hermann Hesse   \n5194                                  Robin Sharma   \n5195  Sri Nisargadatta Maharaj;Sudhakar S. Dikshit   \n5196                 Georg Wilhelm Friedrich Hegel   \n\n                         categories  \\\n0                           Fiction   \n1     Detective and mystery stories   \n2                           Fiction   \n3                    Christian life   \n4                    Christian life   \n...                             ...   \n5192        Indic fiction (English)   \n5193              Adventure stories   \n5194               Health & Fitness   \n5195                     Philosophy   \n5196                        History   \n\n                                              thumbnail  \\\n0     http://books.google.com/books/content?id=KQZCP...   \n1     http://books.google.com/books/content?id=gA5GP...   \n2     http://books.google.com/books/content?id=FKo2T...   \n3     http://books.google.com/books/content?id=XhQ5X...   \n4     http://books.google.com/books/content?id=Kk-uV...   \n...                                                 ...   \n5192  http://books.google.com/books/content?id=q-tKP...   \n5193  http://books.google.com/books/content?id=rq6JP...   \n5194  http://books.google.com/books/content?id=c_7mf...   \n5195  http://books.google.com/books/content?id=Fv_JP...   \n5196  http://books.google.com/books/content?id=Vy7Sk...   \n\n                                            description  published_year  \\\n0     A NOVEL THAT READERS and critics have been eag...          2004.0   \n1     A new 'Christie for Christmas' -- a full-lengt...          2000.0   \n2     A memorable, mesmerizing heroine Jennifer -- b...          1993.0   \n3     Lewis' work on the nature of love divides love...          2002.0   \n4     \"In The Problem of Pain, C.S. Lewis, one of th...          2002.0   \n...                                                 ...             ...   \n5192  On A Train Journey Home To North India After L...          2003.0   \n5193  This book tells the tale of a man who goes on ...          2002.0   \n5194  Wisdom to Create a Life of Passion, Purpose, a...          2003.0   \n5195  This collection of the timeless teachings of o...          1999.0   \n5196  Since the three volume edition ofHegel's Philo...          1981.0   \n\n      average_rating  num_pages  ...  \\\n0               3.85      247.0  ...   \n1               3.83      241.0  ...   \n2               3.93      512.0  ...   \n3               4.15      170.0  ...   \n4               4.09      176.0  ...   \n...              ...        ...  ...   \n5192            2.93      324.0  ...   \n5193            3.70      175.0  ...   \n5194            3.82      198.0  ...   \n5195            4.51      531.0  ...   \n5196            0.00      210.0  ...   \n\n                                     title_and_subtitle  \\\n0                                                Gilead   \n1                                 Spider's Web: A Novel   \n2                                        Rage of angels   \n3                                        The Four Loves   \n4                                   The Problem of Pain   \n...                                                 ...   \n5192                                  Mistaken Identity   \n5193                                Journey to the East   \n5194  The Monk Who Sold His Ferrari: A Fable About F...   \n5195     I Am that: Talks with Sri Nisargadatta Maharaj   \n5196                           The Berlin Phenomenology   \n\n                                     tagged_description simple_categories  \\\n0     9780002005883 A NOVEL THAT READERS and critics...           Fiction   \n1     9780002261982 A new 'Christie for Christmas' -...           Fiction   \n2     9780006178736 A memorable, mesmerizing heroine...           Fiction   \n3     9780006280897 Lewis' work on the nature of lov...        Nonfiction   \n4     9780006280934 \"In The Problem of Pain, C.S. Le...        Nonfiction   \n...                                                 ...               ...   \n5192  9788172235222 On A Train Journey Home To North...           Fiction   \n5193  9788173031014 This book tells the tale of a ma...        Nonfiction   \n5194  9788179921623 Wisdom to Create a Life of Passi...           Fiction   \n5195  9788185300535 This collection of the timeless ...        Nonfiction   \n5196  9789027712059 Since the three volume edition o...        Nonfiction   \n\n         anger   disgust      fear       joy   sadness  surprise   neutral  \n0     0.064134  0.273592  0.928168  0.932798  0.646216  0.967158  0.729602  \n1     0.612620  0.348284  0.942528  0.704422  0.887939  0.111690  0.252546  \n2     0.064134  0.104007  0.972321  0.767238  0.549477  0.111690  0.078765  \n3     0.351484  0.150722  0.360706  0.251881  0.732685  0.111690  0.078765  \n4     0.081413  0.184496  0.095043  0.040564  0.884390  0.475880  0.078765  \n...        ...       ...       ...       ...       ...       ...       ...  \n5192  0.148209  0.030643  0.919165  0.255172  0.853721  0.980877  0.030656  \n5193  0.064134  0.114383  0.051363  0.400263  0.883198  0.111690  0.227765  \n5194  0.009997  0.009929  0.339217  0.947779  0.375755  0.066685  0.057625  \n5195  0.064134  0.104007  0.459269  0.759457  0.951104  0.368111  0.078765  \n5196  0.064134  0.104007  0.051363  0.958549  0.915193  0.111690  0.078765  \n\n[5197 rows x 22 columns]",
      "text/html": "<div>\n<style scoped>\n    .dataframe tbody tr th:only-of-type {\n        vertical-align: middle;\n    }\n\n    .dataframe tbody tr th {\n        vertical-align: top;\n    }\n\n    .dataframe thead th {\n        text-align: right;\n    }\n</style>\n<table border=\"1\" class=\"dataframe\">\n  <thead>\n    <tr style=\"text-align: right;\">\n      <th></th>\n      <th>isbn13</th>\n      <th>isbn10</th>\n      <th>title</th>\n      <th>authors</th>\n      <th>categories</th>\n      <th>thumbnail</th>\n      <th>description</th>\n      <th>published_year</th>\n      <th>average_rating</th>\n      <th>num_pages</th>\n      <th>...</th>\n      <th>title_and_subtitle</th>\n      <th>tagged_description</th>\n      <th>simple_categories</th>\n      <th>anger</th>\n      <th>disgust</th>\n      <th>fear</th>\n      <th>joy</th>\n      <th>sadness</th>\n      <th>surprise</th>\n      <th>neutral</th>\n    </tr>\n  </thead>\n  <tbody>\n    <tr>\n      <th>0</th>\n      <td>9780002005883</td>\n      <td>0002005883</td>\n      <td>Gilead</td>\n      <td>Marilynne Robinson</td>\n      <td>Fiction</td>\n      <td>http://books.google.com/books/content?id=KQZCP...</td>\n      <td>A NOVEL THAT READERS and critics have been eag...</td>\n      <td>2004.0</td>\n      <td>3.85</td>\n      <td>247.0</td>\n      <td>...</td>\n      <td>Gilead</td>\n      <td>9780002005883 A NOVEL THAT READERS and critics...</td>\n      <td>Fiction</td>\n      <td>0.064134</td>\n      <td>0.273592</td>\n      <td>0.928168</td>\n      <td>0.932798</td>\n      <td>0.646216</td>\n      <td>0.967158</td>\n      <td>0.729602</td>\n    </tr>\n    <tr>\n      <th>1</th>\n      <td>9780002261982</td>\n      <td>0002261987</td>\n      <td>Spider's Web</td>\n      <td>Charles Osborne;Agatha Christie</td>\n      <td>Detective and mystery stories</td>\n      <td>http://books.google.com/books/content?id=gA5GP...</td>\n      <td>A new 'Christie for Christmas' -- a full-lengt...</td>\n      <td>2000.0</td>\n      <td>3.83</td>\n      <td>241.0</td>\n      <td>...</td>\n      <td>Spider's Web: A Novel</td>\n      <td>9780002261982 A new 'Christie for Christmas' -...</td>\n      <td>Fiction</td>\n      <td>0.612620</td>\n      <td>0.348284</td>\n      <td>0.942528</td>\n      <td>0.704422</td>\n      <td>0.887939</td>\n      <td>0.111690</td>\n      <td>0.252546</td>\n    </tr>\n    <tr>\n      <th>2</th>\n      <td>9780006178736</td>\n      <td>0006178731</td>\n      <td>Rage of angels</td>\n      <td>Sidney Sheldon</td>\n      <td>Fiction</td>\n      <td>http://books.google.com/books/content?id=FKo2T...</td>\n      <td>A memorable, mesmerizing heroine Jennifer -- b...</td>\n      <td>1993.0</td>\n      <td>3.93</td>\n      <td>512.0</td>\n      <td>...</td>\n      <td>Rage of angels</td>\n      <td>9780006178736 A memorable, mesmerizing heroine...</td>\n      <td>Fiction</td>\n      <td>0.064134</td>\n      <td>0.104007</td>\n      <td>0.972321</td>\n      <td>0.767238</td>\n      <td>0.549477</td>\n      <td>0.111690</td>\n      <td>0.078765</td>\n    </tr>\n    <tr>\n      <th>3</th>\n      <td>9780006280897</td>\n      <td>0006280897</td>\n      <td>The Four Loves</td>\n      <td>Clive Staples Lewis</td>\n      <td>Christian life</td>\n      <td>http://books.google.com/books/content?id=XhQ5X...</td>\n      <td>Lewis' work on the nature of love divides love...</td>\n      <td>2002.0</td>\n      <td>4.15</td>\n      <td>170.0</td>\n      <td>...</td>\n      <td>The Four Loves</td>\n      <td>9780006280897 Lewis' work on the nature of lov...</td>\n      <td>Nonfiction</td>\n      <td>0.351484</td>\n      <td>0.150722</td>\n      <td>0.360706</td>\n      <td>0.251881</td>\n      <td>0.732685</td>\n      <td>0.111690</td>\n      <td>0.078765</td>\n    </tr>\n    <tr>\n      <th>4</th>\n      <td>9780006280934</td>\n      <td>0006280935</td>\n      <td>The Problem of Pain</td>\n      <td>Clive Staples Lewis</td>\n      <td>Christian life</td>\n      <td>http://books.google.com/books/content?id=Kk-uV...</td>\n      <td>\"In The Problem of Pain, C.S. Lewis, one of th...</td>\n      <td>2002.0</td>\n      <td>4.09</td>\n      <td>176.0</td>\n      <td>...</td>\n      <td>The Problem of Pain</td>\n      <td>9780006280934 \"In The Problem of Pain, C.S. Le...</td>\n      <td>Nonfiction</td>\n      <td>0.081413</td>\n      <td>0.184496</td>\n      <td>0.095043</td>\n      <td>0.040564</td>\n      <td>0.884390</td>\n      <td>0.475880</td>\n      <td>0.078765</td>\n    </tr>\n    <tr>\n      <th>...</th>\n      <td>...</td>\n      <td>...</td>\n      <td>...</td>\n      <td>...</td>\n      <td>...</td>\n      <td>...</td>\n      <td>...</td>\n      <td>...</td>\n      <td>...</td>\n      <td>...</td>\n      <td>...</td>\n      <td>...</td>\n      <td>...</td>\n      <td>...</td>\n      <td>...</td>\n      <td>...</td>\n      <td>...</td>\n      <td>...</td>\n      <td>...</td>\n      <td>...</td>\n      <td>...</td>\n    </tr>\n    <tr>\n      <th>5192</th>\n      <td>9788172235222</td>\n      <td>8172235224</td>\n      <td>Mistaken Identity</td>\n      <td>Nayantara Sahgal</td>\n      <td>Indic fiction (English)</td>\n      <td>http://books.google.com/books/content?id=q-tKP...</td>\n      <td>On A Train Journey Home To North India After L...</td>\n      <td>2003.0</td>\n      <td>2.93</td>\n      <td>324.0</td>\n      <td>...</td>\n      <td>Mistaken Identity</td>\n      <td>9788172235222 On A Train Journey Home To North...</td>\n      <td>Fiction</td>\n      <td>0.148209</td>\n      <td>0.030643</td>\n      <td>0.919165</td>\n      <td>0.255172</td>\n      <td>0.853721</td>\n      <td>0.980877</td>\n      <td>0.030656</td>\n    </tr>\n    <tr>\n      <th>5193</th>\n      <td>9788173031014</td>\n      <td>8173031010</td>\n      <td>Journey to the East</td>\n      <td>Hermann Hesse</td>\n      <td>Adventure stories</td>\n      <td>http://books.google.com/books/content?id=rq6JP...</td>\n      <td>This book tells the tale of a man who goes on ...</td>\n      <td>2002.0</td>\n      <td>3.70</td>\n      <td>175.0</td>\n      <td>...</td>\n      <td>Journey to the East</td>\n      <td>9788173031014 This book tells the tale of a ma...</td>\n      <td>Nonfiction</td>\n      <td>0.064134</td>\n      <td>0.114383</td>\n      <td>0.051363</td>\n      <td>0.400263</td>\n      <td>0.883198</td>\n      <td>0.111690</td>\n      <td>0.227765</td>\n    </tr>\n    <tr>\n      <th>5194</th>\n      <td>9788179921623</td>\n      <td>817992162X</td>\n      <td>The Monk Who Sold His Ferrari: A Fable About F...</td>\n      <td>Robin Sharma</td>\n      <td>Health &amp; Fitness</td>\n      <td>http://books.google.com/books/content?id=c_7mf...</td>\n      <td>Wisdom to Create a Life of Passion, Purpose, a...</td>\n      <td>2003.0</td>\n      <td>3.82</td>\n      <td>198.0</td>\n      <td>...</td>\n      <td>The Monk Who Sold His Ferrari: A Fable About F...</td>\n      <td>9788179921623 Wisdom to Create a Life of Passi...</td>\n      <td>Fiction</td>\n      <td>0.009997</td>\n      <td>0.009929</td>\n      <td>0.339217</td>\n      <td>0.947779</td>\n      <td>0.375755</td>\n      <td>0.066685</td>\n      <td>0.057625</td>\n    </tr>\n    <tr>\n      <th>5195</th>\n      <td>9788185300535</td>\n      <td>8185300534</td>\n      <td>I Am that</td>\n      <td>Sri Nisargadatta Maharaj;Sudhakar S. Dikshit</td>\n      <td>Philosophy</td>\n      <td>http://books.google.com/books/content?id=Fv_JP...</td>\n      <td>This collection of the timeless teachings of o...</td>\n      <td>1999.0</td>\n      <td>4.51</td>\n      <td>531.0</td>\n      <td>...</td>\n      <td>I Am that: Talks with Sri Nisargadatta Maharaj</td>\n      <td>9788185300535 This collection of the timeless ...</td>\n      <td>Nonfiction</td>\n      <td>0.064134</td>\n      <td>0.104007</td>\n      <td>0.459269</td>\n      <td>0.759457</td>\n      <td>0.951104</td>\n      <td>0.368111</td>\n      <td>0.078765</td>\n    </tr>\n    <tr>\n      <th>5196</th>\n      <td>9789027712059</td>\n      <td>9027712050</td>\n      <td>The Berlin Phenomenology</td>\n      <td>Georg Wilhelm Friedrich Hegel</td>\n      <td>History</td>\n      <td>http://books.google.com/books/content?id=Vy7Sk...</td>\n      <td>Since the three volume edition ofHegel's Philo...</td>\n      <td>1981.0</td>\n      <td>0.00</td>\n      <td>210.0</td>\n      <td>...</td>\n      <td>The Berlin Phenomenology</td>\n      <td>9789027712059 Since the three volume edition o...</td>\n      <td>Nonfiction</td>\n      <td>0.064134</td>\n      <td>0.104007</td>\n      <td>0.051363</td>\n      <td>0.958549</td>\n      <td>0.915193</td>\n      <td>0.111690</td>\n      <td>0.078765</td>\n    </tr>\n  </tbody>\n</table>\n<p>5197 rows × 22 columns</p>\n</div>"
     },
     "execution_count": 17,
     "metadata": {},
     "output_type": "execute_result"
    }
   ],
   "source": [
    "books"
   ],
   "metadata": {
    "collapsed": false,
    "ExecuteTime": {
     "end_time": "2025-02-02T21:00:08.123880Z",
     "start_time": "2025-02-02T21:00:08.110517Z"
    }
   },
   "id": "cada2cc2165b5f45",
   "execution_count": 17
  },
  {
   "cell_type": "code",
   "outputs": [],
   "source": [
    "books.to_csv(\"books_with_emotions.csv\", index=False)"
   ],
   "metadata": {
    "collapsed": false,
    "ExecuteTime": {
     "end_time": "2025-02-02T21:01:57.180814Z",
     "start_time": "2025-02-02T21:01:57.098327Z"
    }
   },
   "id": "6fce9ccc77a65246",
   "execution_count": 19
  },
  {
   "cell_type": "code",
   "outputs": [],
   "source": [],
   "metadata": {
    "collapsed": false
   },
   "id": "54b4de6e1c964ee3"
  }
 ],
 "metadata": {
  "kernelspec": {
   "display_name": "Python 3",
   "language": "python",
   "name": "python3"
  },
  "language_info": {
   "codemirror_mode": {
    "name": "ipython",
    "version": 2
   },
   "file_extension": ".py",
   "mimetype": "text/x-python",
   "name": "python",
   "nbconvert_exporter": "python",
   "pygments_lexer": "ipython2",
   "version": "2.7.6"
  }
 },
 "nbformat": 4,
 "nbformat_minor": 5
}
